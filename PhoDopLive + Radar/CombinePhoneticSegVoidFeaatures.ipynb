{
 "cells": [
  {
   "cell_type": "code",
   "execution_count": 1,
   "metadata": {},
   "outputs": [],
   "source": [
    "import os\n",
    "import numpy as np"
   ]
  },
  {
   "cell_type": "code",
   "execution_count": 2,
   "metadata": {},
   "outputs": [],
   "source": [
    "# This file reads void and phoneme features and combine them together to create input data for NNs"
   ]
  },
  {
   "cell_type": "code",
   "execution_count": 3,
   "metadata": {},
   "outputs": [],
   "source": [
    "# load data\n",
    "data_path = \".\\data\"\n",
    "training_set_description_path = \".\\data\\protocol_V2\\ASVspoof2017_V2_train.trn.txt\"\n",
    "\n",
    "# load data\n",
    "# each row is a sample\n",
    "# label 1 for genuine data, 0 for recorded data\n",
    "with open(os.path.join(data_path,'training_features_for_all_samples_PCA.npy'), 'rb') as f:\n",
    "    training_featuures = np.load(f)\n",
    "with open(os.path.join(data_path,'training_labels.npy'), 'rb') as f:\n",
    "    training_labels = np.load(f)\n",
    "\n",
    "f = open(training_set_description_path, \"r\")\n",
    "training_set_description = f.read().split('\\n')\n",
    "f.close()"
   ]
  },
  {
   "cell_type": "code",
   "execution_count": 4,
   "metadata": {},
   "outputs": [],
   "source": [
    "# void data column 0:97 is void feature \n",
    "# void data column 97 is label\n",
    "with open(os.path.join(data_path,'void_feature_label_train.npy'), 'rb') as f:\n",
    "    void_data = np.load(f)"
   ]
  },
  {
   "cell_type": "code",
   "execution_count": 5,
   "metadata": {},
   "outputs": [
    {
     "name": "stdout",
     "output_type": "stream",
     "text": [
      "0.0\n"
     ]
    }
   ],
   "source": [
    "# check labels. They should be the same\n",
    "print(np.sum(void_data[:,97].reshape(-1)- training_labels.reshape(-1)))"
   ]
  },
  {
   "cell_type": "code",
   "execution_count": 6,
   "metadata": {},
   "outputs": [
    {
     "name": "stdout",
     "output_type": "stream",
     "text": [
      "(3014, 165)\n",
      "(3014, 98)\n"
     ]
    }
   ],
   "source": [
    "print(training_featuures.shape)\n",
    "print(void_data.shape)"
   ]
  },
  {
   "cell_type": "code",
   "execution_count": 7,
   "metadata": {},
   "outputs": [
    {
     "name": "stdout",
     "output_type": "stream",
     "text": [
      "(3014, 262)\n"
     ]
    }
   ],
   "source": [
    "combined_training_features = np.concatenate((void_data[:,0:97], training_featuures), axis=1)\n",
    "print(combined_training_features.shape)\n",
    "# save data\n",
    "with open(os.path.join(data_path,'combined_void_phoneme_training_features.npy'), 'wb') as f:\n",
    "    np.save(f, combined_training_features)"
   ]
  },
  {
   "cell_type": "code",
   "execution_count": null,
   "metadata": {},
   "outputs": [],
   "source": []
  }
 ],
 "metadata": {
  "kernelspec": {
   "display_name": "Python 3",
   "language": "python",
   "name": "python3"
  },
  "language_info": {
   "codemirror_mode": {
    "name": "ipython",
    "version": 3
   },
   "file_extension": ".py",
   "mimetype": "text/x-python",
   "name": "python",
   "nbconvert_exporter": "python",
   "pygments_lexer": "ipython3",
   "version": "3.8.3"
  }
 },
 "nbformat": 4,
 "nbformat_minor": 4
}
