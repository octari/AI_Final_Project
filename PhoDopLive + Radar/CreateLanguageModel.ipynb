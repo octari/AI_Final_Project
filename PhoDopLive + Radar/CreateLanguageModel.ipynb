{
 "cells": [
  {
   "cell_type": "code",
   "execution_count": 1,
   "metadata": {},
   "outputs": [],
   "source": [
    "# This file parses password texts into phonemes to be furtehr converted into language models.\n",
    "# but language models does not work well."
   ]
  },
  {
   "cell_type": "code",
   "execution_count": null,
   "metadata": {},
   "outputs": [],
   "source": [
    "dictionary_path = \".\\data\\ASVspoof2017.dict\"\n",
    "text_path = \".\\data\\PasswordTexts.txt\"\n",
    "output_path = \".\\data\\PasswordPhonemes.txt\""
   ]
  },
  {
   "cell_type": "code",
   "execution_count": 2,
   "metadata": {},
   "outputs": [],
   "source": [
    "# read phoneme dictionary and text\n",
    "f = open(dictionary_path, \"r\")\n",
    "phoneme_dict_text = f.read()\n",
    "f.close()\n",
    "f = open(text_path, \"r\")\n",
    "text = f.read()\n",
    "f.close()"
   ]
  },
  {
   "cell_type": "code",
   "execution_count": 3,
   "metadata": {},
   "outputs": [],
   "source": [
    "# convert string to dictionary\n",
    "phoneme_dict = {}\n",
    "for line in phoneme_dict_text.split(\"\\n\"):\n",
    "    word = line.split(\" \")[0]\n",
    "    phonemes = \" \".join(line.split(\" \")[1:])\n",
    "    phoneme_dict[word.lower()] = phonemes"
   ]
  },
  {
   "cell_type": "code",
   "execution_count": 4,
   "metadata": {},
   "outputs": [],
   "source": [
    "# convert text to phonemes\n",
    "# replace each word with corresponding phonemes in dictionary\n",
    "result = \"\"\n",
    "for line in text.split(\"\\n\"):\n",
    "    result += \" \".join([phoneme_dict[word.lower()] for word in line.split(\" \")]) + \"\\n\""
   ]
  },
  {
   "cell_type": "code",
   "execution_count": 5,
   "metadata": {},
   "outputs": [],
   "source": [
    "f = open(output_path, \"w\")\n",
    "f.write(result)\n",
    "f.close()"
   ]
  },
  {
   "cell_type": "code",
   "execution_count": null,
   "metadata": {},
   "outputs": [],
   "source": []
  },
  {
   "cell_type": "code",
   "execution_count": null,
   "metadata": {},
   "outputs": [],
   "source": []
  }
 ],
 "metadata": {
  "kernelspec": {
   "display_name": "Python 3",
   "language": "python",
   "name": "python3"
  },
  "language_info": {
   "codemirror_mode": {
    "name": "ipython",
    "version": 3
   },
   "file_extension": ".py",
   "mimetype": "text/x-python",
   "name": "python",
   "nbconvert_exporter": "python",
   "pygments_lexer": "ipython3",
   "version": "3.8.3"
  }
 },
 "nbformat": 4,
 "nbformat_minor": 4
}
