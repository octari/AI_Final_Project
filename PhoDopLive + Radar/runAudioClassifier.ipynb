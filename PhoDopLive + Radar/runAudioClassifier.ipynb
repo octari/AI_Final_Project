{
 "cells": [
  {
   "cell_type": "code",
   "execution_count": 1,
   "metadata": {},
   "outputs": [],
   "source": [
    "import torch\n",
    "from torch import Tensor\n",
    "from torch.nn import Linear, MSELoss, functional as F\n",
    "from torch.optim import SGD\n",
    "from torch.autograd import Variable\n",
    "import numpy as np\n",
    "import matplotlib.pyplot as plt\n",
    "import torch.nn as nn\n",
    "from sklearn.preprocessing import StandardScaler    \n",
    "from sklearn.model_selection import train_test_split\n",
    "import os\n",
    "from sklearn.metrics import classification_report\n",
    "import pickle\n",
    "\n",
    "device = torch.device(\"cuda:0\" if torch.cuda.is_available() else \"cpu\")"
   ]
  },
  {
   "cell_type": "code",
   "execution_count": 2,
   "metadata": {},
   "outputs": [],
   "source": [
    "# This file runs a pre-trained audio classifier on the saved feature file of ASV spoof 2017 dataset and report results"
   ]
  },
  {
   "cell_type": "code",
   "execution_count": 3,
   "metadata": {},
   "outputs": [],
   "source": [
    "# load data\n",
    "data_path = \".\\data\"\n",
    "\n",
    "# each row is a sample\n",
    "# label 1 for genuine data, 0 for recorded data\n",
    "with open(os.path.join(data_path,'combined_void_phoneme_training_features.npy'), 'rb') as f:\n",
    "    features = np.load(f)\n",
    "with open(os.path.join(data_path,'training_labels.npy'), 'rb') as f:\n",
    "    labels = np.load(f)\n",
    "    \n",
    "# standardization\n",
    "scaler = StandardScaler()\n",
    "features = scaler.fit_transform(features)\n",
    "\n",
    "X_train, X_test, y_train, y_test = train_test_split(features, labels, test_size=0.3, random_state=19)\n",
    "\n",
    "# convert into tensor\n",
    "Xtest=torch.from_numpy(X_test).float().to(device)\n",
    "ytest=torch.from_numpy(y_test).to(device)"
   ]
  },
  {
   "cell_type": "code",
   "execution_count": 4,
   "metadata": {},
   "outputs": [],
   "source": [
    "# define neural networks\n",
    "\n",
    "# This is a basic 2-layer fully connected network\n",
    "# It should be broad to push it into overparameterization regime\n",
    "# best parameters so far: 70000 hidden neurons, 5e-3 learning rate, 99.5% test accuracy\n",
    "\n",
    "# N is number of samples; D_in is input dimension;\n",
    "# H is hidden dimension; D_out is output dimension.\n",
    "class TwoLayerNet(torch.nn.Module):\n",
    "    def __init__(self, D_in, H, D_out):\n",
    "        # define layers and activation function\n",
    "        super(TwoLayerNet, self).__init__()\n",
    "        self.linear1 = torch.nn.Linear(D_in, H).to(device)\n",
    "        self.linear2 = torch.nn.Linear(H, D_out).to(device)\n",
    "        self.dropout = torch.nn.Dropout(p=0.5)\n",
    "        self.relu = torch.nn.ReLU()\n",
    "\n",
    "    def forward(self, x):\n",
    "        # define forward pass\n",
    "        x = self.relu(self.linear1(x))\n",
    "        x = self.dropout(x)\n",
    "        y_pred = self.linear2(x)\n",
    "        return y_pred\n",
    "    \n",
    "    \n",
    "class TenLayerNet(torch.nn.Module):\n",
    "    def __init__(self, D_in, H, D_out):\n",
    "        super(TenLayerNet, self).__init__()\n",
    "        self.linear1 = torch.nn.Linear(D_in, H).to(device)\n",
    "        self.linear2 = torch.nn.Linear(H, H).to(device)\n",
    "        self.linear3 = torch.nn.Linear(H, H).to(device)\n",
    "        self.linear4 = torch.nn.Linear(H, H).to(device)\n",
    "        self.linear5 = torch.nn.Linear(H, H).to(device)\n",
    "        self.linear6 = torch.nn.Linear(H, H).to(device)\n",
    "        self.linear7 = torch.nn.Linear(H, H).to(device)\n",
    "        self.linear8 = torch.nn.Linear(H, H).to(device)\n",
    "        self.linear9 = torch.nn.Linear(H, H).to(device)\n",
    "        self.linear10 = torch.nn.Linear(H, D_out).to(device)\n",
    "        self.dropout = torch.nn.Dropout(p=0.5)\n",
    "        self.relu = torch.nn.ReLU()\n",
    "\n",
    "    def forward(self, x):\n",
    "        x = self.relu(self.linear1(x))\n",
    "        x = self.dropout(x)\n",
    "        x = self.relu(self.linear2(x))\n",
    "        x = self.dropout(x)\n",
    "        x = self.relu(self.linear3(x))\n",
    "        x = self.dropout(x)\n",
    "        x = self.relu(self.linear4(x))\n",
    "        x = self.dropout(x)\n",
    "        x = self.relu(self.linear5(x))\n",
    "        x = self.dropout(x)\n",
    "        x = self.relu(self.linear6(x))\n",
    "        x = self.dropout(x)\n",
    "        x = self.relu(self.linear7(x))\n",
    "        x = self.dropout(x)\n",
    "        x = self.relu(self.linear8(x))\n",
    "        x = self.dropout(x)\n",
    "        x = self.relu(self.linear9(x))\n",
    "        x = self.dropout(x)\n",
    "        y_pred = self.linear10(x)\n",
    "        return y_pred"
   ]
  },
  {
   "cell_type": "code",
   "execution_count": 6,
   "metadata": {},
   "outputs": [
    {
     "name": "stdout",
     "output_type": "stream",
     "text": [
      "              precision    recall  f1-score   support\n",
      "\n",
      "     genuine     0.9956    0.9870    0.9913       462\n",
      "    recorded     0.9866    0.9955    0.9910       443\n",
      "\n",
      "    accuracy                         0.9912       905\n",
      "   macro avg     0.9911    0.9912    0.9912       905\n",
      "weighted avg     0.9912    0.9912    0.9912       905\n",
      "\n"
     ]
    }
   ],
   "source": [
    "# load pre-trained model from disk\n",
    "f = open(\"results.pkl\", \"rb\")\n",
    "results = pickle.load(f)\n",
    "f.close()\n",
    "\n",
    "\n",
    "acc_training, acc_test, model = results[(\"TwoLayerNet\", 1e-2)]\n",
    "\n",
    "# run the pre-trained model to classify test set\n",
    "y_pred = model(Xtest)\n",
    "y_pred_tag = torch.round(torch.sigmoid(y_pred))\n",
    "\n",
    "# produce detailed report\n",
    "# False Positive Rate  = 1 - True negative rate\n",
    "# False negative rate = 1 - True positive rate\n",
    "target_names = ['genuine', 'recorded']\n",
    "print(classification_report(y_test, y_pred_tag.cpu().detach().numpy(), target_names=target_names, digits=4))"
   ]
  },
  {
   "cell_type": "code",
   "execution_count": null,
   "metadata": {},
   "outputs": [],
   "source": []
  }
 ],
 "metadata": {
  "kernelspec": {
   "display_name": "Python 3",
   "language": "python",
   "name": "python3"
  },
  "language_info": {
   "codemirror_mode": {
    "name": "ipython",
    "version": 3
   },
   "file_extension": ".py",
   "mimetype": "text/x-python",
   "name": "python",
   "nbconvert_exporter": "python",
   "pygments_lexer": "ipython3",
   "version": "3.8.3"
  }
 },
 "nbformat": 4,
 "nbformat_minor": 4
}
